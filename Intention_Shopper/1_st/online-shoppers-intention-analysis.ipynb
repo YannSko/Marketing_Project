{
 "cells": [
  {
   "attachments": {},
   "cell_type": "markdown",
   "id": "d0b3f9b5",
   "metadata": {
    "id": "YTsZ9E-AtjV6",
    "papermill": {
     "duration": 0.013441,
     "end_time": "2023-06-30T13:25:34.372531",
     "exception": false,
     "start_time": "2023-06-30T13:25:34.359090",
     "status": "completed"
    },
    "tags": []
   },
   "source": [
    "## Classifying Online Shopper Intention\n",
    "\n",
    "\n",
    "### Source\n",
    "\n",
    "https://www.kaggle.com/datasets/niharikakrishnan/online-shoppers-intention-dataset\n",
    "\n",
    "\n",
    "**Introduction:**\n",
    "Online shopping is a huge and growing form of purchasing and represents a huge portion of B2C (Business to Customer) revenue. 69% of Americans have shopped online at some point, with an average revenue of $1804 per online shopper. 36% of Americans shop online at least once per month!  Learning how and when shoppers will research and purchase goods online is important to businesses as they can use customer behavior insights to target advertising, marketing, and deals to potential customers to further increase their sales and revenue. \n",
    "\n",
    "\n",
    "\n",
    "**The Data:**\n",
    "The data set is a set of 18 features: 10 numerical and 8 categorical. This dataset has 12330 entries, split into 10,422 entries where the shoppers did not purchase and 1908 entries where the shoppers did purchase. Each entry is based on unique users in a 1-year period to avoid any trends specific to a specific campaign. \n"
   ]
  },
  {
   "cell_type": "code",
   "execution_count": 1,
   "id": "7052fdec",
   "metadata": {
    "execution": {
     "iopub.execute_input": "2023-06-30T13:25:34.395063Z",
     "iopub.status.busy": "2023-06-30T13:25:34.394222Z",
     "iopub.status.idle": "2023-06-30T13:25:36.641605Z",
     "shell.execute_reply": "2023-06-30T13:25:36.640354Z"
    },
    "id": "3b7M7J9ItjWG",
    "outputId": "f1c74347-9dc9-4b3d-a72e-e471d2a2151e",
    "papermill": {
     "duration": 2.262351,
     "end_time": "2023-06-30T13:25:36.644731",
     "exception": false,
     "start_time": "2023-06-30T13:25:34.382380",
     "status": "completed"
    },
    "tags": []
   },
   "outputs": [],
   "source": [
    "# Import packages\n",
    "\n",
    "import os\n",
    "import pandas as pd\n",
    "import numpy as np\n",
    "import seaborn as sns\n",
    "import matplotlib\n",
    "import sklearn\n",
    "from matplotlib import pyplot as plt\n",
    "from sklearn.model_selection import train_test_split\n",
    "from sklearn.model_selection import StratifiedShuffleSplit\n",
    "from sklearn.preprocessing import OneHotEncoder, LabelEncoder\n",
    "from sklearn.naive_bayes import GaussianNB \n",
    "from sklearn import metrics \n",
    "from sklearn.ensemble import RandomForestClassifier, ExtraTreesClassifier\n",
    "from sklearn.metrics import roc_auc_score\n",
    "from sklearn.metrics import log_loss\n",
    "from sklearn.model_selection import cross_val_score\n",
    "from sklearn.dummy import DummyClassifier\n"
   ]
  },
  {
   "attachments": {},
   "cell_type": "markdown",
   "id": "c4ea0cb5",
   "metadata": {
    "papermill": {
     "duration": 0.010226,
     "end_time": "2023-06-30T13:25:36.664968",
     "exception": false,
     "start_time": "2023-06-30T13:25:36.654742",
     "status": "completed"
    },
    "tags": []
   },
   "source": [
    "LOAD THE DATA"
   ]
  },
  {
   "cell_type": "code",
   "execution_count": 2,
   "id": "b1d3f781",
   "metadata": {
    "execution": {
     "iopub.execute_input": "2023-06-30T13:25:36.690007Z",
     "iopub.status.busy": "2023-06-30T13:25:36.689292Z",
     "iopub.status.idle": "2023-06-30T13:25:36.795265Z",
     "shell.execute_reply": "2023-06-30T13:25:36.794127Z"
    },
    "papermill": {
     "duration": 0.124108,
     "end_time": "2023-06-30T13:25:36.799109",
     "exception": false,
     "start_time": "2023-06-30T13:25:36.675001",
     "status": "completed"
    },
    "tags": []
   },
   "outputs": [
    {
     "data": {
      "text/html": [
       "<div>\n",
       "<style scoped>\n",
       "    .dataframe tbody tr th:only-of-type {\n",
       "        vertical-align: middle;\n",
       "    }\n",
       "\n",
       "    .dataframe tbody tr th {\n",
       "        vertical-align: top;\n",
       "    }\n",
       "\n",
       "    .dataframe thead th {\n",
       "        text-align: right;\n",
       "    }\n",
       "</style>\n",
       "<table border=\"1\" class=\"dataframe\">\n",
       "  <thead>\n",
       "    <tr style=\"text-align: right;\">\n",
       "      <th></th>\n",
       "      <th>Administrative</th>\n",
       "      <th>Administrative_Duration</th>\n",
       "      <th>Informational</th>\n",
       "      <th>Informational_Duration</th>\n",
       "      <th>ProductRelated</th>\n",
       "      <th>ProductRelated_Duration</th>\n",
       "      <th>BounceRates</th>\n",
       "      <th>ExitRates</th>\n",
       "      <th>PageValues</th>\n",
       "      <th>SpecialDay</th>\n",
       "      <th>Month</th>\n",
       "      <th>OperatingSystems</th>\n",
       "      <th>Browser</th>\n",
       "      <th>Region</th>\n",
       "      <th>TrafficType</th>\n",
       "      <th>VisitorType</th>\n",
       "      <th>Weekend</th>\n",
       "      <th>Revenue</th>\n",
       "    </tr>\n",
       "  </thead>\n",
       "  <tbody>\n",
       "    <tr>\n",
       "      <th>0</th>\n",
       "      <td>0</td>\n",
       "      <td>0.0</td>\n",
       "      <td>0</td>\n",
       "      <td>0.0</td>\n",
       "      <td>1</td>\n",
       "      <td>0.000000</td>\n",
       "      <td>0.20</td>\n",
       "      <td>0.20</td>\n",
       "      <td>0.0</td>\n",
       "      <td>0.0</td>\n",
       "      <td>Feb</td>\n",
       "      <td>1</td>\n",
       "      <td>1</td>\n",
       "      <td>1</td>\n",
       "      <td>1</td>\n",
       "      <td>Returning_Visitor</td>\n",
       "      <td>False</td>\n",
       "      <td>False</td>\n",
       "    </tr>\n",
       "    <tr>\n",
       "      <th>1</th>\n",
       "      <td>0</td>\n",
       "      <td>0.0</td>\n",
       "      <td>0</td>\n",
       "      <td>0.0</td>\n",
       "      <td>2</td>\n",
       "      <td>64.000000</td>\n",
       "      <td>0.00</td>\n",
       "      <td>0.10</td>\n",
       "      <td>0.0</td>\n",
       "      <td>0.0</td>\n",
       "      <td>Feb</td>\n",
       "      <td>2</td>\n",
       "      <td>2</td>\n",
       "      <td>1</td>\n",
       "      <td>2</td>\n",
       "      <td>Returning_Visitor</td>\n",
       "      <td>False</td>\n",
       "      <td>False</td>\n",
       "    </tr>\n",
       "    <tr>\n",
       "      <th>2</th>\n",
       "      <td>0</td>\n",
       "      <td>0.0</td>\n",
       "      <td>0</td>\n",
       "      <td>0.0</td>\n",
       "      <td>1</td>\n",
       "      <td>0.000000</td>\n",
       "      <td>0.20</td>\n",
       "      <td>0.20</td>\n",
       "      <td>0.0</td>\n",
       "      <td>0.0</td>\n",
       "      <td>Feb</td>\n",
       "      <td>4</td>\n",
       "      <td>1</td>\n",
       "      <td>9</td>\n",
       "      <td>3</td>\n",
       "      <td>Returning_Visitor</td>\n",
       "      <td>False</td>\n",
       "      <td>False</td>\n",
       "    </tr>\n",
       "    <tr>\n",
       "      <th>3</th>\n",
       "      <td>0</td>\n",
       "      <td>0.0</td>\n",
       "      <td>0</td>\n",
       "      <td>0.0</td>\n",
       "      <td>2</td>\n",
       "      <td>2.666667</td>\n",
       "      <td>0.05</td>\n",
       "      <td>0.14</td>\n",
       "      <td>0.0</td>\n",
       "      <td>0.0</td>\n",
       "      <td>Feb</td>\n",
       "      <td>3</td>\n",
       "      <td>2</td>\n",
       "      <td>2</td>\n",
       "      <td>4</td>\n",
       "      <td>Returning_Visitor</td>\n",
       "      <td>False</td>\n",
       "      <td>False</td>\n",
       "    </tr>\n",
       "    <tr>\n",
       "      <th>4</th>\n",
       "      <td>0</td>\n",
       "      <td>0.0</td>\n",
       "      <td>0</td>\n",
       "      <td>0.0</td>\n",
       "      <td>10</td>\n",
       "      <td>627.500000</td>\n",
       "      <td>0.02</td>\n",
       "      <td>0.05</td>\n",
       "      <td>0.0</td>\n",
       "      <td>0.0</td>\n",
       "      <td>Feb</td>\n",
       "      <td>3</td>\n",
       "      <td>3</td>\n",
       "      <td>1</td>\n",
       "      <td>4</td>\n",
       "      <td>Returning_Visitor</td>\n",
       "      <td>True</td>\n",
       "      <td>False</td>\n",
       "    </tr>\n",
       "  </tbody>\n",
       "</table>\n",
       "</div>"
      ],
      "text/plain": [
       "   Administrative  Administrative_Duration  Informational  \\\n",
       "0               0                      0.0              0   \n",
       "1               0                      0.0              0   \n",
       "2               0                      0.0              0   \n",
       "3               0                      0.0              0   \n",
       "4               0                      0.0              0   \n",
       "\n",
       "   Informational_Duration  ProductRelated  ProductRelated_Duration  \\\n",
       "0                     0.0               1                 0.000000   \n",
       "1                     0.0               2                64.000000   \n",
       "2                     0.0               1                 0.000000   \n",
       "3                     0.0               2                 2.666667   \n",
       "4                     0.0              10               627.500000   \n",
       "\n",
       "   BounceRates  ExitRates  PageValues  SpecialDay Month  OperatingSystems  \\\n",
       "0         0.20       0.20         0.0         0.0   Feb                 1   \n",
       "1         0.00       0.10         0.0         0.0   Feb                 2   \n",
       "2         0.20       0.20         0.0         0.0   Feb                 4   \n",
       "3         0.05       0.14         0.0         0.0   Feb                 3   \n",
       "4         0.02       0.05         0.0         0.0   Feb                 3   \n",
       "\n",
       "   Browser  Region  TrafficType        VisitorType  Weekend  Revenue  \n",
       "0        1       1            1  Returning_Visitor    False    False  \n",
       "1        2       1            2  Returning_Visitor    False    False  \n",
       "2        1       9            3  Returning_Visitor    False    False  \n",
       "3        2       2            4  Returning_Visitor    False    False  \n",
       "4        3       1            4  Returning_Visitor     True    False  "
      ]
     },
     "execution_count": 2,
     "metadata": {},
     "output_type": "execute_result"
    }
   ],
   "source": [
    "#Read data and display data head\n",
    "\n",
    "shopping = pd.read_csv('/kaggle/input/online-shoppers-intention-dataset/online_shoppers_intention.csv')\n",
    "shopping.head()"
   ]
  },
  {
   "attachments": {},
   "cell_type": "markdown",
   "id": "62c2d467",
   "metadata": {
    "id": "wMQEa7KFtjWK",
    "papermill": {
     "duration": 0.010541,
     "end_time": "2023-06-30T13:25:36.820591",
     "exception": false,
     "start_time": "2023-06-30T13:25:36.810050",
     "status": "completed"
    },
    "tags": []
   },
   "source": [
    "As stated above, our dataset has 10 numerical features and 8 categorical features.\n",
    "Taking a look at the dataset description:\n",
    "\n",
    "## Column Descriptions:\n",
    "**Administrative:** This is the number of pages of this type (administrative) that the user visited.\n",
    "\n",
    "**Administrative_Duration:** This is the amount of time spent in this category of pages.\n",
    "\n",
    "**Informational:** This is the number of pages of this type (informational) that the user visited.\n",
    "\n",
    "**Informational_Duration:** This is the amount of time spent in this category of pages.\n",
    "\n",
    "**ProductRelated:** This is the number of pages of this type (product related) that the user visited.\n",
    "\n",
    "**ProductRelated_Duration:** This is the amount of time spent in this category of pages.\n",
    "\n",
    "**BounceRates:** The percentage of visitors who enter the website through that page and exit without triggering any additional tasks.\n",
    "\n",
    "**ExitRates:** The percentage of pageviews on the website that end at that specific page.\n",
    "\n",
    "**PageValues:** The average value of the page averaged over the value of the target page and/or the completion of an eCommerce transaction. <br>\n",
    "[More information about how this is calculated](https://support.google.com/analytics/answer/2695658?hl=en)\n",
    "\n",
    "**SpecialDay:** This value represents the closeness of the browsing date to special days or holidays (eg Mother's Day or Valentine's day) in which the transaction is more likely to be finalized. More information about how this value is calculated below.\n",
    "\n",
    "**Month:** Contains the month the pageview occurred, in string form.\n",
    "\n",
    "**OperatingSystems:** An integer value representing the operating system that the user was on when viewing the page.\n",
    "\n",
    "**Browser:** An integer value representing the browser that the user was using to view the page.\n",
    "\n",
    "**Region:** An integer value representing which region the user is located in.\n",
    "\n",
    "**TrafficType:** An integer value representing what type of traffic the user is categorized into. <br>\n",
    "[Read more about traffic types here.](https://www.practicalecommerce.com/Understanding-Traffic-Sources-in-Google-Analytics)\n",
    "\n",
    "**VisitorType:** A string representing whether a visitor is New Visitor, Returning Visitor, or Other.\n",
    "\n",
    "**Weekend:** A boolean representing whether the session is on a weekend.\n",
    "\n",
    "**Revenue:** A boolean representing whether or not the user completed the purchase.\n",
    "\n"
   ]
  },
  {
   "attachments": {},
   "cell_type": "markdown",
   "id": "e825fdf6",
   "metadata": {
    "id": "xWUSwBRttjWL",
    "papermill": {
     "duration": 0.009507,
     "end_time": "2023-06-30T13:25:36.840441",
     "exception": false,
     "start_time": "2023-06-30T13:25:36.830934",
     "status": "completed"
    },
    "tags": []
   },
   "source": [
    "## Exploratory Data Analysis"
   ]
  },
  {
   "cell_type": "code",
   "execution_count": 3,
   "id": "89dc52ab",
   "metadata": {
    "execution": {
     "iopub.execute_input": "2023-06-30T13:25:36.862864Z",
     "iopub.status.busy": "2023-06-30T13:25:36.862394Z",
     "iopub.status.idle": "2023-06-30T13:25:36.957924Z",
     "shell.execute_reply": "2023-06-30T13:25:36.956599Z"
    },
    "id": "RjBA0WNQtjWL",
    "outputId": "03d29788-9754-4aa7-de61-7bbb767abad5",
    "papermill": {
     "duration": 0.10985,
     "end_time": "2023-06-30T13:25:36.960596",
     "exception": false,
     "start_time": "2023-06-30T13:25:36.850746",
     "status": "completed"
    },
    "tags": []
   },
   "outputs": [
    {
     "data": {
      "text/html": [
       "<div>\n",
       "<style scoped>\n",
       "    .dataframe tbody tr th:only-of-type {\n",
       "        vertical-align: middle;\n",
       "    }\n",
       "\n",
       "    .dataframe tbody tr th {\n",
       "        vertical-align: top;\n",
       "    }\n",
       "\n",
       "    .dataframe thead th {\n",
       "        text-align: right;\n",
       "    }\n",
       "</style>\n",
       "<table border=\"1\" class=\"dataframe\">\n",
       "  <thead>\n",
       "    <tr style=\"text-align: right;\">\n",
       "      <th></th>\n",
       "      <th>Administrative</th>\n",
       "      <th>Administrative_Duration</th>\n",
       "      <th>Informational</th>\n",
       "      <th>Informational_Duration</th>\n",
       "      <th>ProductRelated</th>\n",
       "      <th>ProductRelated_Duration</th>\n",
       "      <th>BounceRates</th>\n",
       "      <th>ExitRates</th>\n",
       "      <th>PageValues</th>\n",
       "      <th>SpecialDay</th>\n",
       "      <th>Month</th>\n",
       "      <th>OperatingSystems</th>\n",
       "      <th>Browser</th>\n",
       "      <th>Region</th>\n",
       "      <th>TrafficType</th>\n",
       "      <th>VisitorType</th>\n",
       "      <th>Weekend</th>\n",
       "      <th>Revenue</th>\n",
       "    </tr>\n",
       "  </thead>\n",
       "  <tbody>\n",
       "    <tr>\n",
       "      <th>count</th>\n",
       "      <td>12330.000000</td>\n",
       "      <td>12330.000000</td>\n",
       "      <td>12330.000000</td>\n",
       "      <td>12330.000000</td>\n",
       "      <td>12330.000000</td>\n",
       "      <td>12330.000000</td>\n",
       "      <td>12330.000000</td>\n",
       "      <td>12330.000000</td>\n",
       "      <td>12330.000000</td>\n",
       "      <td>12330.000000</td>\n",
       "      <td>12330</td>\n",
       "      <td>12330.000000</td>\n",
       "      <td>12330.000000</td>\n",
       "      <td>12330.000000</td>\n",
       "      <td>12330.000000</td>\n",
       "      <td>12330</td>\n",
       "      <td>12330</td>\n",
       "      <td>12330</td>\n",
       "    </tr>\n",
       "    <tr>\n",
       "      <th>unique</th>\n",
       "      <td>NaN</td>\n",
       "      <td>NaN</td>\n",
       "      <td>NaN</td>\n",
       "      <td>NaN</td>\n",
       "      <td>NaN</td>\n",
       "      <td>NaN</td>\n",
       "      <td>NaN</td>\n",
       "      <td>NaN</td>\n",
       "      <td>NaN</td>\n",
       "      <td>NaN</td>\n",
       "      <td>10</td>\n",
       "      <td>NaN</td>\n",
       "      <td>NaN</td>\n",
       "      <td>NaN</td>\n",
       "      <td>NaN</td>\n",
       "      <td>3</td>\n",
       "      <td>2</td>\n",
       "      <td>2</td>\n",
       "    </tr>\n",
       "    <tr>\n",
       "      <th>top</th>\n",
       "      <td>NaN</td>\n",
       "      <td>NaN</td>\n",
       "      <td>NaN</td>\n",
       "      <td>NaN</td>\n",
       "      <td>NaN</td>\n",
       "      <td>NaN</td>\n",
       "      <td>NaN</td>\n",
       "      <td>NaN</td>\n",
       "      <td>NaN</td>\n",
       "      <td>NaN</td>\n",
       "      <td>May</td>\n",
       "      <td>NaN</td>\n",
       "      <td>NaN</td>\n",
       "      <td>NaN</td>\n",
       "      <td>NaN</td>\n",
       "      <td>Returning_Visitor</td>\n",
       "      <td>False</td>\n",
       "      <td>False</td>\n",
       "    </tr>\n",
       "    <tr>\n",
       "      <th>freq</th>\n",
       "      <td>NaN</td>\n",
       "      <td>NaN</td>\n",
       "      <td>NaN</td>\n",
       "      <td>NaN</td>\n",
       "      <td>NaN</td>\n",
       "      <td>NaN</td>\n",
       "      <td>NaN</td>\n",
       "      <td>NaN</td>\n",
       "      <td>NaN</td>\n",
       "      <td>NaN</td>\n",
       "      <td>3364</td>\n",
       "      <td>NaN</td>\n",
       "      <td>NaN</td>\n",
       "      <td>NaN</td>\n",
       "      <td>NaN</td>\n",
       "      <td>10551</td>\n",
       "      <td>9462</td>\n",
       "      <td>10422</td>\n",
       "    </tr>\n",
       "    <tr>\n",
       "      <th>mean</th>\n",
       "      <td>2.315166</td>\n",
       "      <td>80.818611</td>\n",
       "      <td>0.503569</td>\n",
       "      <td>34.472398</td>\n",
       "      <td>31.731468</td>\n",
       "      <td>1194.746220</td>\n",
       "      <td>0.022191</td>\n",
       "      <td>0.043073</td>\n",
       "      <td>5.889258</td>\n",
       "      <td>0.061427</td>\n",
       "      <td>NaN</td>\n",
       "      <td>2.124006</td>\n",
       "      <td>2.357097</td>\n",
       "      <td>3.147364</td>\n",
       "      <td>4.069586</td>\n",
       "      <td>NaN</td>\n",
       "      <td>NaN</td>\n",
       "      <td>NaN</td>\n",
       "    </tr>\n",
       "    <tr>\n",
       "      <th>std</th>\n",
       "      <td>3.321784</td>\n",
       "      <td>176.779107</td>\n",
       "      <td>1.270156</td>\n",
       "      <td>140.749294</td>\n",
       "      <td>44.475503</td>\n",
       "      <td>1913.669288</td>\n",
       "      <td>0.048488</td>\n",
       "      <td>0.048597</td>\n",
       "      <td>18.568437</td>\n",
       "      <td>0.198917</td>\n",
       "      <td>NaN</td>\n",
       "      <td>0.911325</td>\n",
       "      <td>1.717277</td>\n",
       "      <td>2.401591</td>\n",
       "      <td>4.025169</td>\n",
       "      <td>NaN</td>\n",
       "      <td>NaN</td>\n",
       "      <td>NaN</td>\n",
       "    </tr>\n",
       "    <tr>\n",
       "      <th>min</th>\n",
       "      <td>0.000000</td>\n",
       "      <td>0.000000</td>\n",
       "      <td>0.000000</td>\n",
       "      <td>0.000000</td>\n",
       "      <td>0.000000</td>\n",
       "      <td>0.000000</td>\n",
       "      <td>0.000000</td>\n",
       "      <td>0.000000</td>\n",
       "      <td>0.000000</td>\n",
       "      <td>0.000000</td>\n",
       "      <td>NaN</td>\n",
       "      <td>1.000000</td>\n",
       "      <td>1.000000</td>\n",
       "      <td>1.000000</td>\n",
       "      <td>1.000000</td>\n",
       "      <td>NaN</td>\n",
       "      <td>NaN</td>\n",
       "      <td>NaN</td>\n",
       "    </tr>\n",
       "    <tr>\n",
       "      <th>25%</th>\n",
       "      <td>0.000000</td>\n",
       "      <td>0.000000</td>\n",
       "      <td>0.000000</td>\n",
       "      <td>0.000000</td>\n",
       "      <td>7.000000</td>\n",
       "      <td>184.137500</td>\n",
       "      <td>0.000000</td>\n",
       "      <td>0.014286</td>\n",
       "      <td>0.000000</td>\n",
       "      <td>0.000000</td>\n",
       "      <td>NaN</td>\n",
       "      <td>2.000000</td>\n",
       "      <td>2.000000</td>\n",
       "      <td>1.000000</td>\n",
       "      <td>2.000000</td>\n",
       "      <td>NaN</td>\n",
       "      <td>NaN</td>\n",
       "      <td>NaN</td>\n",
       "    </tr>\n",
       "    <tr>\n",
       "      <th>50%</th>\n",
       "      <td>1.000000</td>\n",
       "      <td>7.500000</td>\n",
       "      <td>0.000000</td>\n",
       "      <td>0.000000</td>\n",
       "      <td>18.000000</td>\n",
       "      <td>598.936905</td>\n",
       "      <td>0.003112</td>\n",
       "      <td>0.025156</td>\n",
       "      <td>0.000000</td>\n",
       "      <td>0.000000</td>\n",
       "      <td>NaN</td>\n",
       "      <td>2.000000</td>\n",
       "      <td>2.000000</td>\n",
       "      <td>3.000000</td>\n",
       "      <td>2.000000</td>\n",
       "      <td>NaN</td>\n",
       "      <td>NaN</td>\n",
       "      <td>NaN</td>\n",
       "    </tr>\n",
       "    <tr>\n",
       "      <th>75%</th>\n",
       "      <td>4.000000</td>\n",
       "      <td>93.256250</td>\n",
       "      <td>0.000000</td>\n",
       "      <td>0.000000</td>\n",
       "      <td>38.000000</td>\n",
       "      <td>1464.157214</td>\n",
       "      <td>0.016813</td>\n",
       "      <td>0.050000</td>\n",
       "      <td>0.000000</td>\n",
       "      <td>0.000000</td>\n",
       "      <td>NaN</td>\n",
       "      <td>3.000000</td>\n",
       "      <td>2.000000</td>\n",
       "      <td>4.000000</td>\n",
       "      <td>4.000000</td>\n",
       "      <td>NaN</td>\n",
       "      <td>NaN</td>\n",
       "      <td>NaN</td>\n",
       "    </tr>\n",
       "    <tr>\n",
       "      <th>max</th>\n",
       "      <td>27.000000</td>\n",
       "      <td>3398.750000</td>\n",
       "      <td>24.000000</td>\n",
       "      <td>2549.375000</td>\n",
       "      <td>705.000000</td>\n",
       "      <td>63973.522230</td>\n",
       "      <td>0.200000</td>\n",
       "      <td>0.200000</td>\n",
       "      <td>361.763742</td>\n",
       "      <td>1.000000</td>\n",
       "      <td>NaN</td>\n",
       "      <td>8.000000</td>\n",
       "      <td>13.000000</td>\n",
       "      <td>9.000000</td>\n",
       "      <td>20.000000</td>\n",
       "      <td>NaN</td>\n",
       "      <td>NaN</td>\n",
       "      <td>NaN</td>\n",
       "    </tr>\n",
       "  </tbody>\n",
       "</table>\n",
       "</div>"
      ],
      "text/plain": [
       "        Administrative  Administrative_Duration  Informational  \\\n",
       "count     12330.000000             12330.000000   12330.000000   \n",
       "unique             NaN                      NaN            NaN   \n",
       "top                NaN                      NaN            NaN   \n",
       "freq               NaN                      NaN            NaN   \n",
       "mean          2.315166                80.818611       0.503569   \n",
       "std           3.321784               176.779107       1.270156   \n",
       "min           0.000000                 0.000000       0.000000   \n",
       "25%           0.000000                 0.000000       0.000000   \n",
       "50%           1.000000                 7.500000       0.000000   \n",
       "75%           4.000000                93.256250       0.000000   \n",
       "max          27.000000              3398.750000      24.000000   \n",
       "\n",
       "        Informational_Duration  ProductRelated  ProductRelated_Duration  \\\n",
       "count             12330.000000    12330.000000             12330.000000   \n",
       "unique                     NaN             NaN                      NaN   \n",
       "top                        NaN             NaN                      NaN   \n",
       "freq                       NaN             NaN                      NaN   \n",
       "mean                 34.472398       31.731468              1194.746220   \n",
       "std                 140.749294       44.475503              1913.669288   \n",
       "min                   0.000000        0.000000                 0.000000   \n",
       "25%                   0.000000        7.000000               184.137500   \n",
       "50%                   0.000000       18.000000               598.936905   \n",
       "75%                   0.000000       38.000000              1464.157214   \n",
       "max                2549.375000      705.000000             63973.522230   \n",
       "\n",
       "         BounceRates     ExitRates    PageValues    SpecialDay  Month  \\\n",
       "count   12330.000000  12330.000000  12330.000000  12330.000000  12330   \n",
       "unique           NaN           NaN           NaN           NaN     10   \n",
       "top              NaN           NaN           NaN           NaN    May   \n",
       "freq             NaN           NaN           NaN           NaN   3364   \n",
       "mean        0.022191      0.043073      5.889258      0.061427    NaN   \n",
       "std         0.048488      0.048597     18.568437      0.198917    NaN   \n",
       "min         0.000000      0.000000      0.000000      0.000000    NaN   \n",
       "25%         0.000000      0.014286      0.000000      0.000000    NaN   \n",
       "50%         0.003112      0.025156      0.000000      0.000000    NaN   \n",
       "75%         0.016813      0.050000      0.000000      0.000000    NaN   \n",
       "max         0.200000      0.200000    361.763742      1.000000    NaN   \n",
       "\n",
       "        OperatingSystems       Browser        Region   TrafficType  \\\n",
       "count       12330.000000  12330.000000  12330.000000  12330.000000   \n",
       "unique               NaN           NaN           NaN           NaN   \n",
       "top                  NaN           NaN           NaN           NaN   \n",
       "freq                 NaN           NaN           NaN           NaN   \n",
       "mean            2.124006      2.357097      3.147364      4.069586   \n",
       "std             0.911325      1.717277      2.401591      4.025169   \n",
       "min             1.000000      1.000000      1.000000      1.000000   \n",
       "25%             2.000000      2.000000      1.000000      2.000000   \n",
       "50%             2.000000      2.000000      3.000000      2.000000   \n",
       "75%             3.000000      2.000000      4.000000      4.000000   \n",
       "max             8.000000     13.000000      9.000000     20.000000   \n",
       "\n",
       "              VisitorType Weekend Revenue  \n",
       "count               12330   12330   12330  \n",
       "unique                  3       2       2  \n",
       "top     Returning_Visitor   False   False  \n",
       "freq                10551    9462   10422  \n",
       "mean                  NaN     NaN     NaN  \n",
       "std                   NaN     NaN     NaN  \n",
       "min                   NaN     NaN     NaN  \n",
       "25%                   NaN     NaN     NaN  \n",
       "50%                   NaN     NaN     NaN  \n",
       "75%                   NaN     NaN     NaN  \n",
       "max                   NaN     NaN     NaN  "
      ]
     },
     "execution_count": 3,
     "metadata": {},
     "output_type": "execute_result"
    }
   ],
   "source": [
    "# Describe the dataset\n",
    "shopping.describe(include='all')"
   ]
  },
  {
   "cell_type": "code",
   "execution_count": 4,
   "id": "ad6050b2",
   "metadata": {
    "execution": {
     "iopub.execute_input": "2023-06-30T13:25:36.984233Z",
     "iopub.status.busy": "2023-06-30T13:25:36.983786Z",
     "iopub.status.idle": "2023-06-30T13:25:36.998798Z",
     "shell.execute_reply": "2023-06-30T13:25:36.996396Z"
    },
    "id": "dPXBuDKQtjWN",
    "outputId": "91901a4e-b5f5-4e0f-b84a-475b6692aa4a",
    "papermill": {
     "duration": 0.031029,
     "end_time": "2023-06-30T13:25:37.002111",
     "exception": false,
     "start_time": "2023-06-30T13:25:36.971082",
     "status": "completed"
    },
    "tags": []
   },
   "outputs": [
    {
     "name": "stdout",
     "output_type": "stream",
     "text": [
      "Total number of null values in dataset: 0\n"
     ]
    }
   ],
   "source": [
    "# Check for null values in data\n",
    "nullcount = shopping.isnull().sum()\n",
    "print('Total number of null values in dataset:', nullcount.sum())"
   ]
  },
  {
   "attachments": {},
   "cell_type": "markdown",
   "id": "a7fa6e99",
   "metadata": {
    "id": "wlqZMKPCtjWO",
    "papermill": {
     "duration": 0.010425,
     "end_time": "2023-06-30T13:25:37.023869",
     "exception": false,
     "start_time": "2023-06-30T13:25:37.013444",
     "status": "completed"
    },
    "tags": []
   },
   "source": [
    "Here we can see that there are no null values in the dataset. \n",
    "We do not need to fix or replace any null values in the dataset."
   ]
  },
  {
   "cell_type": "code",
   "execution_count": 5,
   "id": "5ea1ea2e",
   "metadata": {
    "execution": {
     "iopub.execute_input": "2023-06-30T13:25:37.047260Z",
     "iopub.status.busy": "2023-06-30T13:25:37.046378Z",
     "iopub.status.idle": "2023-06-30T13:25:37.064380Z",
     "shell.execute_reply": "2023-06-30T13:25:37.062756Z"
    },
    "id": "N_Je0tpDtjWP",
    "outputId": "a1a3276e-9bef-4cd0-fa11-92be3cfb379f",
    "papermill": {
     "duration": 0.032679,
     "end_time": "2023-06-30T13:25:37.067063",
     "exception": false,
     "start_time": "2023-06-30T13:25:37.034384",
     "status": "completed"
    },
    "tags": []
   },
   "outputs": [
    {
     "name": "stdout",
     "output_type": "stream",
     "text": [
      "Administrative               27\n",
      "Administrative_Duration    3335\n",
      "Informational                17\n",
      "Informational_Duration     1258\n",
      "ProductRelated              311\n",
      "ProductRelated_Duration    9551\n",
      "BounceRates                1872\n",
      "ExitRates                  4777\n",
      "PageValues                 2704\n",
      "SpecialDay                    6\n",
      "Month                        10\n",
      "OperatingSystems              8\n",
      "Browser                      13\n",
      "Region                        9\n",
      "TrafficType                  20\n",
      "VisitorType                   3\n",
      "Weekend                       2\n",
      "Revenue                       2\n",
      "dtype: int64\n"
     ]
    }
   ],
   "source": [
    "# Checking for number of unique values for each feature\n",
    "\n",
    "uniques = shopping.nunique(axis=0)\n",
    "print(uniques)"
   ]
  },
  {
   "cell_type": "code",
   "execution_count": 6,
   "id": "a7934d5f",
   "metadata": {
    "execution": {
     "iopub.execute_input": "2023-06-30T13:25:37.091720Z",
     "iopub.status.busy": "2023-06-30T13:25:37.091227Z",
     "iopub.status.idle": "2023-06-30T13:25:37.369966Z",
     "shell.execute_reply": "2023-06-30T13:25:37.369013Z"
    },
    "id": "le2L5ZgAtjWQ",
    "outputId": "5bb0565b-b607-49ef-ac0c-6a2d34936f35",
    "papermill": {
     "duration": 0.295119,
     "end_time": "2023-06-30T13:25:37.373437",
     "exception": false,
     "start_time": "2023-06-30T13:25:37.078318",
     "status": "completed"
    },
    "tags": []
   },
   "outputs": [
    {
     "data": {
      "image/png": "[encoded data removed]",
      "text/plain": [
       "<Figure size 640x480 with 1 Axes>"
      ]
     },
     "metadata": {},
     "output_type": "display_data"
    }
   ],
   "source": [
    "# Visualize the data\n",
    "\n",
    "sns.countplot(shopping['Revenue'])\n",
    "plt.ylim(0,12000)\n",
    "plt.title('Was the transaction completed?', fontsize= 15)\n",
    "plt.xlabel('Transaction Completed', fontsize=12)\n",
    "plt.ylabel('Count (Entries)', fontsize=12)\n",
    "plt.text(x=-.175, y=11000 ,s='10,422', fontsize=15)\n",
    "plt.text(x=.875, y=2500, s='1908', fontsize=15)\n",
    "plt.show()\n"
   ]
  },
  {
   "attachments": {},
   "cell_type": "markdown",
   "id": "db6cba81",
   "metadata": {
    "id": "nYK3-CLstjWQ",
    "papermill": {
     "duration": 0.011027,
     "end_time": "2023-06-30T13:25:37.395672",
     "exception": false,
     "start_time": "2023-06-30T13:25:37.384645",
     "status": "completed"
    },
    "tags": []
   },
   "source": [
    "We can see that the number of entries where the customer ended up not purchasing is much higher that the number of entries where the customer ended up completing a transaction. This makes sense, as a majority of normal online shopping ends without a purchase."
   ]
  },
  {
   "attachments": {},
   "cell_type": "markdown",
   "id": "35df68d7",
   "metadata": {
    "id": "R-ulS_EEtjWS",
    "papermill": {
     "duration": 0.010811,
     "end_time": "2023-06-30T13:25:37.418043",
     "exception": false,
     "start_time": "2023-06-30T13:25:37.407232",
     "status": "completed"
    },
    "tags": []
   },
   "source": [
    "\n",
    "\n",
    "Next, let us take a look at the 'OperatingSystems' and 'Browser' columns."
   ]
  },
  {
   "cell_type": "code",
   "execution_count": 7,
   "id": "4cae709e",
   "metadata": {
    "execution": {
     "iopub.execute_input": "2023-06-30T13:25:37.442731Z",
     "iopub.status.busy": "2023-06-30T13:25:37.441647Z",
     "iopub.status.idle": "2023-06-30T13:25:37.681498Z",
     "shell.execute_reply": "2023-06-30T13:25:37.680424Z"
    },
    "id": "bknnmhSNtjWS",
    "outputId": "a0793c2d-4268-4ade-9e7e-fd870a81ace1",
    "papermill": {
     "duration": 0.257062,
     "end_time": "2023-06-30T13:25:37.686099",
     "exception": false,
     "start_time": "2023-06-30T13:25:37.429037",
     "status": "completed"
    },
    "tags": []
   },
   "outputs": [
    {
     "data": {
      "image/png": "[encoded data removed]",
      "text/plain": [
       "<Figure size 600x600 with 1 Axes>"
      ]
     },
     "metadata": {},
     "output_type": "display_data"
    }
   ],
   "source": [
    "shopping['OperatingSystems'] = shopping['OperatingSystems'].replace([5,6,7,8],5)\n",
    "os_plot = shopping['OperatingSystems'].value_counts().plot.pie(figsize=(6,6))\n",
    "plt.title('Operating Systems', fontsize=15)\n",
    "plt.show()"
   ]
  },
  {
   "attachments": {},
   "cell_type": "markdown",
   "id": "aa9b5990",
   "metadata": {
    "id": "5stW-fKVtjWT",
    "papermill": {
     "duration": 0.018661,
     "end_time": "2023-06-30T13:25:37.726621",
     "exception": false,
     "start_time": "2023-06-30T13:25:37.707960",
     "status": "completed"
    },
    "tags": []
   },
   "source": [
    "Here we have the Operating Systems, labeled by number. Low-usage browsers have been consolidated into label '5'.\n",
    "We can see that a majority of users use operating system. Operating systems can indicate users of a specific type of computer and may portray certain user archetypes (Windows users, Mac users, Linux users). For now, we will forgo usage of this column for our classifier."
   ]
  },
  {
   "cell_type": "code",
   "execution_count": 8,
   "id": "607de60e",
   "metadata": {
    "execution": {
     "iopub.execute_input": "2023-06-30T13:25:37.754249Z",
     "iopub.status.busy": "2023-06-30T13:25:37.753630Z",
     "iopub.status.idle": "2023-06-30T13:25:37.971904Z",
     "shell.execute_reply": "2023-06-30T13:25:37.970659Z"
    },
    "id": "PjY9bD4btjWT",
    "outputId": "f5fe3d08-7695-459e-8950-445168362ee8",
    "papermill": {
     "duration": 0.234792,
     "end_time": "2023-06-30T13:25:37.974728",
     "exception": false,
     "start_time": "2023-06-30T13:25:37.739936",
     "status": "completed"
    },
    "tags": []
   },
   "outputs": [
    {
     "data": {
      "image/png": "[encoded data removed]",
      "text/plain": [
       "<Figure size 640x480 with 1 Axes>"
      ]
     },
     "metadata": {},
     "output_type": "display_data"
    }
   ],
   "source": [
    "sns.countplot(shopping['Browser'])\n",
    "plt.title('Browsers', fontsize=15)\n",
    "plt.show()"
   ]
  },
  {
   "attachments": {},
   "cell_type": "markdown",
   "id": "fc7a1dce",
   "metadata": {
    "id": "ZaY1u4E9tjWU",
    "papermill": {
     "duration": 0.011755,
     "end_time": "2023-06-30T13:25:37.998300",
     "exception": false,
     "start_time": "2023-06-30T13:25:37.986545",
     "status": "completed"
    },
    "tags": []
   },
   "source": [
    "Browser choice is even more polarizing than Operating System. Here we see that a large majority of users use browser 2, with a smaller number of users using browser 1. All other browsers represent a small subsection of online users. We will not use this as it does not contribute much to our model.\n",
    "\n",
    "There are several other columns that we leave out:\n",
    "\n",
    "'Region': We leave regionality out because the regionality may be slightly tied to purchase likelihood, but we want to train our model on a smaller set of features if possible.\n",
    "\n",
    "'TrafficType': We leave this column out because Traffic sources are not quite useful for calssifying if a user will make a purchase. It usually aids website owners in gauging traffic sources and can assist with determining where they should invest in advertisement.\n",
    "\n",
    "'Weekend':There is a weak correlation between days of the week and online shopping. The research asserts that Sundays and Mondays have the highest traffic for eCommerce, but only by 16% of weekly revenue, and mostly on Monday, which is not classified as a weekend."
   ]
  },
  {
   "cell_type": "code",
   "execution_count": 9,
   "id": "227ccf36",
   "metadata": {
    "execution": {
     "iopub.execute_input": "2023-06-30T13:25:38.026454Z",
     "iopub.status.busy": "2023-06-30T13:25:38.026001Z",
     "iopub.status.idle": "2023-06-30T13:25:38.034913Z",
     "shell.execute_reply": "2023-06-30T13:25:38.033711Z"
    },
    "id": "Zz5UtA31tjWU",
    "papermill": {
     "duration": 0.025995,
     "end_time": "2023-06-30T13:25:38.037628",
     "exception": false,
     "start_time": "2023-06-30T13:25:38.011633",
     "status": "completed"
    },
    "tags": []
   },
   "outputs": [],
   "source": [
    "# Removing unneccessary columns from data: shopping_clean\n",
    "\n",
    "shopping_clean = shopping.drop(['Month','Browser','OperatingSystems','Region','TrafficType','Weekend'], axis=1)"
   ]
  },
  {
   "attachments": {},
   "cell_type": "markdown",
   "id": "92a7a6b3",
   "metadata": {
    "id": "zL30e2aytjWU",
    "papermill": {
     "duration": 0.01166,
     "end_time": "2023-06-30T13:25:38.061196",
     "exception": false,
     "start_time": "2023-06-30T13:25:38.049536",
     "status": "completed"
    },
    "tags": []
   },
   "source": [
    "## Label and One Hot Encoding\n",
    "\n",
    "In order to properly fit our classifier, we will need to encode our string variables to integer labels, then convert our labels from integers to One Hot columns to remove any implied hierarchy."
   ]
  },
  {
   "cell_type": "code",
   "execution_count": 10,
   "id": "14542977",
   "metadata": {
    "execution": {
     "iopub.execute_input": "2023-06-30T13:25:38.088412Z",
     "iopub.status.busy": "2023-06-30T13:25:38.087623Z",
     "iopub.status.idle": "2023-06-30T13:25:38.101992Z",
     "shell.execute_reply": "2023-06-30T13:25:38.100384Z"
    },
    "id": "-fAFLLw_tjWV",
    "papermill": {
     "duration": 0.031953,
     "end_time": "2023-06-30T13:25:38.105206",
     "exception": false,
     "start_time": "2023-06-30T13:25:38.073253",
     "status": "completed"
    },
    "tags": []
   },
   "outputs": [],
   "source": [
    "# Encoding Visitor Type\n",
    "\n",
    "visitor_encoded = pd.get_dummies(shopping_clean['VisitorType'], prefix='Visitor_Type', drop_first = True)\n",
    "\n",
    "shopping_clean_merged = pd.concat([shopping_clean, visitor_encoded], axis=1).drop(['VisitorType'], axis=1)"
   ]
  },
  {
   "cell_type": "code",
   "execution_count": 11,
   "id": "8f6cdef7",
   "metadata": {
    "execution": {
     "iopub.execute_input": "2023-06-30T13:25:38.131812Z",
     "iopub.status.busy": "2023-06-30T13:25:38.131273Z",
     "iopub.status.idle": "2023-06-30T13:25:38.146160Z",
     "shell.execute_reply": "2023-06-30T13:25:38.145095Z"
    },
    "id": "BAuZ3r0AtjWV",
    "papermill": {
     "duration": 0.031702,
     "end_time": "2023-06-30T13:25:38.148954",
     "exception": false,
     "start_time": "2023-06-30T13:25:38.117252",
     "status": "completed"
    },
    "tags": []
   },
   "outputs": [],
   "source": [
    "# Split train and test data\n",
    "\n",
    "X = shopping_clean_merged.drop('Revenue', axis=1)\n",
    "y = shopping_clean_merged['Revenue']\n",
    "X_train, X_test, y_train, y_test = train_test_split(X, y,random_state=2, test_size=.2)"
   ]
  },
  {
   "attachments": {},
   "cell_type": "markdown",
   "id": "9bbf6097",
   "metadata": {
    "id": "Lo3MAJZItjWV",
    "papermill": {
     "duration": 0.013938,
     "end_time": "2023-06-30T13:25:38.178362",
     "exception": false,
     "start_time": "2023-06-30T13:25:38.164424",
     "status": "completed"
    },
    "tags": []
   },
   "source": [
    "## Naive Bayes Classifier\n",
    "\n"
   ]
  },
  {
   "cell_type": "code",
   "execution_count": 12,
   "id": "14c8fce7",
   "metadata": {
    "execution": {
     "iopub.execute_input": "2023-06-30T13:25:38.209492Z",
     "iopub.status.busy": "2023-06-30T13:25:38.208430Z",
     "iopub.status.idle": "2023-06-30T13:25:38.228690Z",
     "shell.execute_reply": "2023-06-30T13:25:38.227488Z"
    },
    "id": "SlHspb4TtjWV",
    "outputId": "b6027bfd-7071-4d9d-d6d8-a9c6ed3c56a1",
    "papermill": {
     "duration": 0.04062,
     "end_time": "2023-06-30T13:25:38.231495",
     "exception": false,
     "start_time": "2023-06-30T13:25:38.190875",
     "status": "completed"
    },
    "tags": []
   },
   "outputs": [
    {
     "name": "stdout",
     "output_type": "stream",
     "text": [
      "Gaussian Naive Bayes model accuracy(in %): 84.63\n"
     ]
    }
   ],
   "source": [
    "# Fit Gaussian Naive Bayes Classifier to our training data\n",
    "gnb = GaussianNB() \n",
    "gnb.fit(X_train, y_train) \n",
    "\n",
    "# Make prediction using our test data and model\n",
    "y_pred = gnb.predict(X_test) \n",
    "\n",
    "# Comparing our prediction to response values\n",
    "print(\"Gaussian Naive Bayes model accuracy(in %):\", round(metrics.accuracy_score(y_test, y_pred)*100,2))\n"
   ]
  },
  {
   "attachments": {},
   "cell_type": "markdown",
   "id": "58c54cf4",
   "metadata": {
    "id": "mDe2Ntc6tjWW",
    "papermill": {
     "duration": 0.011801,
     "end_time": "2023-06-30T13:25:38.256025",
     "exception": false,
     "start_time": "2023-06-30T13:25:38.244224",
     "status": "completed"
    },
    "tags": []
   },
   "source": [
    "## Random Forest Classifier"
   ]
  },
  {
   "cell_type": "code",
   "execution_count": 13,
   "id": "f85c937a",
   "metadata": {
    "execution": {
     "iopub.execute_input": "2023-06-30T13:25:38.288502Z",
     "iopub.status.busy": "2023-06-30T13:25:38.287544Z",
     "iopub.status.idle": "2023-06-30T13:25:45.029589Z",
     "shell.execute_reply": "2023-06-30T13:25:45.028157Z"
    },
    "id": "gx4JjayctjWW",
    "outputId": "43861107-5359-4467-a8e9-1960ae90bf18",
    "papermill": {
     "duration": 6.764568,
     "end_time": "2023-06-30T13:25:45.032553",
     "exception": false,
     "start_time": "2023-06-30T13:25:38.267985",
     "status": "completed"
    },
    "tags": []
   },
   "outputs": [
    {
     "name": "stdout",
     "output_type": "stream",
     "text": [
      "Random Forest Classifier model accuracy(in %): 90.23\n"
     ]
    }
   ],
   "source": [
    "# Fit Random Forest Classifier to our Training Data\n",
    "rfc = RandomForestClassifier(max_depth=5, random_state=2, n_estimators=750)\n",
    "rfc.fit(X_train, y_train)\n",
    "\n",
    "# make prediction using our test data and model\n",
    "y_pred_rfc = rfc.predict(X_test)\n",
    "y_prob_rfc = rfc.predict_proba(X_test)[:, 1]\n",
    "\n",
    "# Comparing our prediciton to response values\n",
    "print('Random Forest Classifier model accuracy(in %):', round(metrics.accuracy_score(y_test, y_pred_rfc)*100,2))"
   ]
  },
  {
   "cell_type": "code",
   "execution_count": 14,
   "id": "d6452da6",
   "metadata": {
    "execution": {
     "iopub.execute_input": "2023-06-30T13:25:45.060470Z",
     "iopub.status.busy": "2023-06-30T13:25:45.059983Z",
     "iopub.status.idle": "2023-06-30T13:25:58.274738Z",
     "shell.execute_reply": "2023-06-30T13:25:58.273241Z"
    },
    "id": "MLaTobJNtjWZ",
    "outputId": "a03fa29e-b9f0-49f6-f908-5c98426286e3",
    "papermill": {
     "duration": 13.232771,
     "end_time": "2023-06-30T13:25:58.277762",
     "exception": false,
     "start_time": "2023-06-30T13:25:45.044991",
     "status": "completed"
    },
    "tags": []
   },
   "outputs": [
    {
     "name": "stdout",
     "output_type": "stream",
     "text": [
      "Extra Trees Classifier model accuracy(in %): 89.5\n"
     ]
    }
   ],
   "source": [
    "# Fit Extra Trees Classifier to our Training Data\n",
    "etc = ExtraTreesClassifier(random_state=2, n_estimators=1000)\n",
    "etc.fit(X_train, y_train)\n",
    "\n",
    "# make prediction using our test data and model\n",
    "y_pred_etc = etc.predict(X_test)\n",
    "y_prob_etc = etc.predict_proba(X_test)[:, 1]\n",
    "\n",
    "# Comparing our prediciton to response values\n",
    "print('Extra Trees Classifier model accuracy(in %):', round(metrics.accuracy_score(y_test, y_pred_etc)*100,2))"
   ]
  },
  {
   "cell_type": "code",
   "execution_count": 15,
   "id": "698a7bab",
   "metadata": {
    "execution": {
     "iopub.execute_input": "2023-06-30T13:25:58.304277Z",
     "iopub.status.busy": "2023-06-30T13:25:58.303826Z",
     "iopub.status.idle": "2023-06-30T13:25:58.609357Z",
     "shell.execute_reply": "2023-06-30T13:25:58.608104Z"
    },
    "id": "eDPlnV5BtjWZ",
    "outputId": "a5841d51-6520-4001-c15a-8760329d27c8",
    "papermill": {
     "duration": 0.322541,
     "end_time": "2023-06-30T13:25:58.612749",
     "exception": false,
     "start_time": "2023-06-30T13:25:58.290208",
     "status": "completed"
    },
    "tags": []
   },
   "outputs": [
    {
     "name": "stdout",
     "output_type": "stream",
     "text": [
      "The area under the ROC curve is: 0.89\n"
     ]
    },
    {
     "data": {
      "image/png": "[encoded data removed]",
      "text/plain": [
       "<Figure size 640x480 with 1 Axes>"
      ]
     },
     "metadata": {},
     "output_type": "display_data"
    }
   ],
   "source": [
    "# Calculate ROC AUC for our best performing classifier, the Random Forest Classifier\n",
    "roc_value = roc_auc_score(y_test, y_prob_rfc)\n",
    "print('The area under the ROC curve is:', round(roc_value,2))\n",
    "\n",
    "fpr, tpr, threshold = metrics.roc_curve(y_test, y_prob_rfc)\n",
    "roc_auc = metrics.auc(fpr, tpr)\n",
    "\n",
    "# Plotting ROC Curve\n",
    "plt.title('Receiver Operating Characteristic')\n",
    "plt.plot(fpr, tpr, 'b', label = 'AUC = %0.2f' % roc_auc)\n",
    "plt.legend(loc = 'lower right')\n",
    "plt.plot([0, 1], [0, 1],'r--')\n",
    "plt.xlim([0, 1])\n",
    "plt.ylim([0, 1])\n",
    "plt.ylabel('True Positive Rate')\n",
    "plt.xlabel('False Positive Rate')\n",
    "plt.show()"
   ]
  },
  {
   "cell_type": "code",
   "execution_count": 16,
   "id": "c7554070",
   "metadata": {
    "execution": {
     "iopub.execute_input": "2023-06-30T13:25:58.640873Z",
     "iopub.status.busy": "2023-06-30T13:25:58.640332Z",
     "iopub.status.idle": "2023-06-30T13:25:58.650336Z",
     "shell.execute_reply": "2023-06-30T13:25:58.649099Z"
    },
    "id": "Ol6KBwVotjWa",
    "outputId": "052d8364-87bc-44f0-c7d1-bc93d8a41d4c",
    "papermill": {
     "duration": 0.027333,
     "end_time": "2023-06-30T13:25:58.653128",
     "exception": false,
     "start_time": "2023-06-30T13:25:58.625795",
     "status": "completed"
    },
    "tags": []
   },
   "outputs": [
    {
     "name": "stdout",
     "output_type": "stream",
     "text": [
      "Log Loss: 0.16\n"
     ]
    }
   ],
   "source": [
    "# Calculate Log Loss\n",
    "rfc_log_loss = log_loss(y_pred_rfc, y_prob_rfc, eps=1e-15)\n",
    "print('Log Loss:', round(rfc_log_loss,2))"
   ]
  },
  {
   "attachments": {},
   "cell_type": "markdown",
   "id": "393e8ff0",
   "metadata": {
    "id": "oprX8J4ItjWa",
    "papermill": {
     "duration": 0.012422,
     "end_time": "2023-06-30T13:25:58.678410",
     "exception": false,
     "start_time": "2023-06-30T13:25:58.665988",
     "status": "completed"
    },
    "tags": []
   },
   "source": [
    "## Stratifying Training Data \n",
    "\n",
    "Because the training data is so heavily skewed in the direction of the 'No purchase made' category, we must stratify our training data so that the ratio of training labels is equal. We use the stratified shuffle split package included in the Sci-kit learn library to achieve this."
   ]
  },
  {
   "cell_type": "code",
   "execution_count": 17,
   "id": "de3429b3",
   "metadata": {
    "execution": {
     "iopub.execute_input": "2023-06-30T13:25:58.707324Z",
     "iopub.status.busy": "2023-06-30T13:25:58.706890Z",
     "iopub.status.idle": "2023-06-30T13:25:58.722000Z",
     "shell.execute_reply": "2023-06-30T13:25:58.720776Z"
    },
    "id": "ip8ty8jptjWa",
    "papermill": {
     "duration": 0.033069,
     "end_time": "2023-06-30T13:25:58.725064",
     "exception": false,
     "start_time": "2023-06-30T13:25:58.691995",
     "status": "completed"
    },
    "tags": []
   },
   "outputs": [],
   "source": [
    "X_train_stratified, X_test_stratified, y_train_stratified, y_test_stratified = train_test_split(X, y,stratify=y, test_size=.2, random_state=2, shuffle=True)"
   ]
  },
  {
   "cell_type": "code",
   "execution_count": 18,
   "id": "37ea260a",
   "metadata": {
    "execution": {
     "iopub.execute_input": "2023-06-30T13:25:58.753892Z",
     "iopub.status.busy": "2023-06-30T13:25:58.753416Z",
     "iopub.status.idle": "2023-06-30T13:25:58.774333Z",
     "shell.execute_reply": "2023-06-30T13:25:58.773021Z"
    },
    "id": "5OPbbbPutjWa",
    "outputId": "f25c99b7-6f75-4f59-8857-d5d44140cde4",
    "papermill": {
     "duration": 0.038452,
     "end_time": "2023-06-30T13:25:58.777089",
     "exception": false,
     "start_time": "2023-06-30T13:25:58.738637",
     "status": "completed"
    },
    "tags": []
   },
   "outputs": [
    {
     "name": "stdout",
     "output_type": "stream",
     "text": [
      "Stratified Gaussian Naive Bayes model accuracy(in %): 83.78\n"
     ]
    }
   ],
   "source": [
    "# Fit Gaussian Naive Bayes Classifier to our training data\n",
    "gnb_stratified = GaussianNB() \n",
    "gnb_stratified.fit(X_train_stratified, y_train_stratified) \n",
    "\n",
    "# Make prediction using our test data and model\n",
    "y_pred_stratified = gnb_stratified.predict(X_test_stratified) \n",
    "\n",
    "# Comparing our prediction to response values\n",
    "print(\"Stratified Gaussian Naive Bayes model accuracy(in %):\", round(metrics.accuracy_score(y_test_stratified, y_pred_stratified)*100,2))\n"
   ]
  },
  {
   "cell_type": "code",
   "execution_count": 19,
   "id": "1ef6a46a",
   "metadata": {
    "execution": {
     "iopub.execute_input": "2023-06-30T13:25:58.806922Z",
     "iopub.status.busy": "2023-06-30T13:25:58.805842Z",
     "iopub.status.idle": "2023-06-30T13:26:05.711789Z",
     "shell.execute_reply": "2023-06-30T13:26:05.710310Z"
    },
    "id": "q7PL_5G2tjWb",
    "outputId": "e4760e6d-a6a7-4d2d-ef1f-a5b0efdf8bd9",
    "papermill": {
     "duration": 6.92414,
     "end_time": "2023-06-30T13:26:05.715482",
     "exception": false,
     "start_time": "2023-06-30T13:25:58.791342",
     "status": "completed"
    },
    "tags": []
   },
   "outputs": [
    {
     "name": "stdout",
     "output_type": "stream",
     "text": [
      "Stratified Random Forest Classifier model accuracy(in %): 89.5\n"
     ]
    }
   ],
   "source": [
    "# Fit Random Forest Classifier to our Training Data\n",
    "rfc_stratified = RandomForestClassifier(max_depth=5, random_state=2, n_estimators=750)\n",
    "rfc_stratified.fit(X_train_stratified, y_train_stratified)\n",
    "\n",
    "# make prediction using our test data and model\n",
    "y_pred_rfc_stratified = rfc_stratified.predict(X_test_stratified)\n",
    "y_prob_rfc_stratified = rfc_stratified.predict_proba(X_test_stratified)[:, 1]\n",
    "\n",
    "# Comparing our prediciton to response values\n",
    "print('Stratified Random Forest Classifier model accuracy(in %):', round(metrics.accuracy_score(y_test_stratified, y_pred_rfc_stratified)*100,2))"
   ]
  },
  {
   "cell_type": "code",
   "execution_count": 20,
   "id": "d8ab53d9",
   "metadata": {
    "execution": {
     "iopub.execute_input": "2023-06-30T13:26:05.744209Z",
     "iopub.status.busy": "2023-06-30T13:26:05.743770Z",
     "iopub.status.idle": "2023-06-30T13:26:06.080494Z",
     "shell.execute_reply": "2023-06-30T13:26:06.079035Z"
    },
    "id": "IAVuzh7ktjWb",
    "outputId": "0f4e444e-2fb2-4024-de77-e7e27d32f82a",
    "papermill": {
     "duration": 0.354786,
     "end_time": "2023-06-30T13:26:06.083441",
     "exception": false,
     "start_time": "2023-06-30T13:26:05.728655",
     "status": "completed"
    },
    "tags": []
   },
   "outputs": [
    {
     "name": "stdout",
     "output_type": "stream",
     "text": [
      "The area under the ROC curve for unbalanced data is: 0.89\n",
      "The area under the ROC curve for stratified data is: 0.9\n"
     ]
    },
    {
     "data": {
      "image/png": "[encoded data removed]",
      "text/plain": [
       "<Figure size 640x480 with 1 Axes>"
      ]
     },
     "metadata": {},
     "output_type": "display_data"
    }
   ],
   "source": [
    "# Let us plot the ROC curve for the Random Forest Classifier for both the stratified data versus the unbalanced data.\n",
    "\n",
    "roc_value = roc_auc_score(y_test, y_prob_rfc)\n",
    "print('The area under the ROC curve for unbalanced data is:', round(roc_value,2))\n",
    "\n",
    "roc_value_stratified = roc_auc_score(y_test_stratified, y_prob_rfc_stratified)\n",
    "print('The area under the ROC curve for stratified data is:', round(roc_value_stratified,2))\n",
    "\n",
    "fpr, tpr, threshold = metrics.roc_curve(y_test, y_prob_rfc)\n",
    "roc_auc = metrics.auc(fpr, tpr)\n",
    "\n",
    "fpr_strat, tpr_strat, threshold_strat = metrics.roc_curve(y_test_stratified, y_prob_rfc_stratified)\n",
    "roc_auc_strat = metrics.auc(fpr_strat, tpr_strat)\n",
    "\n",
    "# Plotting ROC Curve\n",
    "plt.title('Receiver Operating Characteristic, Random Forest Classifier')\n",
    "plt.plot(fpr, tpr, 'b', label = 'Unbalanced AUC = %0.2f' % roc_auc)\n",
    "plt.plot(fpr_strat, tpr_strat, 'r', label = 'Stratified AUC = %0.2f' % roc_auc_strat)\n",
    "plt.legend(loc = 'lower right')\n",
    "plt.plot([0, 1], [0, 1],'r--')\n",
    "plt.xlim([0, 1])\n",
    "plt.ylim([0, 1])\n",
    "plt.ylabel('True Positive Rate')\n",
    "plt.xlabel('False Positive Rate')\n",
    "plt.show()"
   ]
  },
  {
   "attachments": {},
   "cell_type": "markdown",
   "id": "b3286db3",
   "metadata": {
    "id": "BOiBcaAftjWb",
    "papermill": {
     "duration": 0.015013,
     "end_time": "2023-06-30T13:26:06.113252",
     "exception": false,
     "start_time": "2023-06-30T13:26:06.098239",
     "status": "completed"
    },
    "tags": []
   },
   "source": [
    "**Feature Importance**\n",
    "\n",
    "To see if we can improve our model, let us track the feature importance of each of our features to see which features matter to the outcome of the prediction."
   ]
  },
  {
   "cell_type": "code",
   "execution_count": 21,
   "id": "60a1ebdd",
   "metadata": {
    "execution": {
     "iopub.execute_input": "2023-06-30T13:26:06.143802Z",
     "iopub.status.busy": "2023-06-30T13:26:06.143066Z",
     "iopub.status.idle": "2023-06-30T13:26:06.230845Z",
     "shell.execute_reply": "2023-06-30T13:26:06.229788Z"
    },
    "id": "Z7R275JMtjWb",
    "outputId": "faf769ab-23c2-47f2-d202-b1e1c22fbafa",
    "papermill": {
     "duration": 0.105902,
     "end_time": "2023-06-30T13:26:06.233255",
     "exception": false,
     "start_time": "2023-06-30T13:26:06.127353",
     "status": "completed"
    },
    "tags": []
   },
   "outputs": [
    {
     "name": "stdout",
     "output_type": "stream",
     "text": [
      "Feature ranking:\n",
      "1. Feature 8 (0.693368)\n",
      "2. Feature 7 (0.086168)\n",
      "3. Feature 5 (0.058875)\n",
      "4. Feature 6 (0.042850)\n",
      "5. Feature 4 (0.040776)\n",
      "6. Feature 1 (0.022842)\n",
      "7. Feature 0 (0.020969)\n",
      "8. Feature 11 (0.017604)\n",
      "9. Feature 3 (0.008162)\n",
      "10. Feature 2 (0.005109)\n",
      "11. Feature 9 (0.003008)\n",
      "12. Feature 10 (0.000269)\n"
     ]
    }
   ],
   "source": [
    "# \n",
    "importances = rfc_stratified.feature_importances_\n",
    "std = np.std([tree.feature_importances_ for tree in rfc_stratified.estimators_],\n",
    "             axis=0)\n",
    "indices = np.argsort(importances)[::-1]\n",
    "\n",
    "print(\"Feature ranking:\")\n",
    "\n",
    "for f in range(X_train_stratified.shape[1]):\n",
    "    print(\"%d. Feature %d (%f)\" % (f + 1, indices[f], importances[indices[f]]))"
   ]
  },
  {
   "cell_type": "code",
   "execution_count": 22,
   "id": "e80a675e",
   "metadata": {
    "execution": {
     "iopub.execute_input": "2023-06-30T13:26:06.266048Z",
     "iopub.status.busy": "2023-06-30T13:26:06.265274Z",
     "iopub.status.idle": "2023-06-30T13:26:06.279895Z",
     "shell.execute_reply": "2023-06-30T13:26:06.278659Z"
    },
    "id": "0iaiO__ftjWc",
    "outputId": "155cfbbf-a1c6-45cf-a136-b482ac0517b8",
    "papermill": {
     "duration": 0.034958,
     "end_time": "2023-06-30T13:26:06.282766",
     "exception": false,
     "start_time": "2023-06-30T13:26:06.247808",
     "status": "completed"
    },
    "tags": []
   },
   "outputs": [
    {
     "data": {
      "text/html": [
       "<div>\n",
       "<style scoped>\n",
       "    .dataframe tbody tr th:only-of-type {\n",
       "        vertical-align: middle;\n",
       "    }\n",
       "\n",
       "    .dataframe tbody tr th {\n",
       "        vertical-align: top;\n",
       "    }\n",
       "\n",
       "    .dataframe thead th {\n",
       "        text-align: right;\n",
       "    }\n",
       "</style>\n",
       "<table border=\"1\" class=\"dataframe\">\n",
       "  <thead>\n",
       "    <tr style=\"text-align: right;\">\n",
       "      <th></th>\n",
       "      <th>Importance</th>\n",
       "    </tr>\n",
       "  </thead>\n",
       "  <tbody>\n",
       "    <tr>\n",
       "      <th>PageValues</th>\n",
       "      <td>0.693368</td>\n",
       "    </tr>\n",
       "    <tr>\n",
       "      <th>ExitRates</th>\n",
       "      <td>0.086168</td>\n",
       "    </tr>\n",
       "    <tr>\n",
       "      <th>ProductRelated_Duration</th>\n",
       "      <td>0.058875</td>\n",
       "    </tr>\n",
       "    <tr>\n",
       "      <th>BounceRates</th>\n",
       "      <td>0.042850</td>\n",
       "    </tr>\n",
       "    <tr>\n",
       "      <th>ProductRelated</th>\n",
       "      <td>0.040776</td>\n",
       "    </tr>\n",
       "    <tr>\n",
       "      <th>Administrative_Duration</th>\n",
       "      <td>0.022842</td>\n",
       "    </tr>\n",
       "    <tr>\n",
       "      <th>Administrative</th>\n",
       "      <td>0.020969</td>\n",
       "    </tr>\n",
       "    <tr>\n",
       "      <th>Visitor_Type_Returning_Visitor</th>\n",
       "      <td>0.017604</td>\n",
       "    </tr>\n",
       "    <tr>\n",
       "      <th>Informational_Duration</th>\n",
       "      <td>0.008162</td>\n",
       "    </tr>\n",
       "    <tr>\n",
       "      <th>Informational</th>\n",
       "      <td>0.005109</td>\n",
       "    </tr>\n",
       "    <tr>\n",
       "      <th>SpecialDay</th>\n",
       "      <td>0.003008</td>\n",
       "    </tr>\n",
       "    <tr>\n",
       "      <th>Visitor_Type_Other</th>\n",
       "      <td>0.000269</td>\n",
       "    </tr>\n",
       "  </tbody>\n",
       "</table>\n",
       "</div>"
      ],
      "text/plain": [
       "                                Importance\n",
       "PageValues                        0.693368\n",
       "ExitRates                         0.086168\n",
       "ProductRelated_Duration           0.058875\n",
       "BounceRates                       0.042850\n",
       "ProductRelated                    0.040776\n",
       "Administrative_Duration           0.022842\n",
       "Administrative                    0.020969\n",
       "Visitor_Type_Returning_Visitor    0.017604\n",
       "Informational_Duration            0.008162\n",
       "Informational                     0.005109\n",
       "SpecialDay                        0.003008\n",
       "Visitor_Type_Other                0.000269"
      ]
     },
     "execution_count": 22,
     "metadata": {},
     "output_type": "execute_result"
    }
   ],
   "source": [
    "# Generating a dataframe for our feature importance\n",
    "\n",
    "col_names = pd.Series([col for col in X_train_stratified.columns])\n",
    "\n",
    "importance_df = pd.DataFrame(importances)\n",
    "importance_df.rename(columns={0:'Importance'}, inplace=True)\n",
    "importance_df.set_index(col_names,inplace=True)\n",
    "\n",
    "imp_sorted = importance_df.sort_values(by='Importance', ascending=False)\n",
    "imp_sorted"
   ]
  },
  {
   "attachments": {},
   "cell_type": "markdown",
   "id": "9a273ad9",
   "metadata": {
    "id": "Z1BptVCXtjWc",
    "papermill": {
     "duration": 0.013892,
     "end_time": "2023-06-30T13:26:06.311107",
     "exception": false,
     "start_time": "2023-06-30T13:26:06.297215",
     "status": "completed"
    },
    "tags": []
   },
   "source": [
    "We can see that the \"Page Values\" seems to be the most impactful feature by a large margin."
   ]
  },
  {
   "cell_type": "code",
   "execution_count": 23,
   "id": "e3383b0d",
   "metadata": {
    "execution": {
     "iopub.execute_input": "2023-06-30T13:26:06.343546Z",
     "iopub.status.busy": "2023-06-30T13:26:06.342741Z",
     "iopub.status.idle": "2023-06-30T13:26:06.689346Z",
     "shell.execute_reply": "2023-06-30T13:26:06.688111Z"
    },
    "id": "MP3L4O6NtjWc",
    "outputId": "a66c18fc-8df7-4ae4-bb19-0e9df7e716b9",
    "papermill": {
     "duration": 0.366754,
     "end_time": "2023-06-30T13:26:06.692070",
     "exception": false,
     "start_time": "2023-06-30T13:26:06.325316",
     "status": "completed"
    },
    "tags": []
   },
   "outputs": [
    {
     "data": {
      "image/png": "[encoded data removed]",
      "text/plain": [
       "<Figure size 640x480 with 1 Axes>"
      ]
     },
     "metadata": {},
     "output_type": "display_data"
    }
   ],
   "source": [
    "plt.title(\"Feature importances\")\n",
    "plt.bar(range(X_train_stratified.shape[1]),importances[indices])\n",
    "plt.xticks(range(X_train_stratified.shape[1]), imp_sorted.index, rotation=90)\n",
    "plt.xlim([-1, X_train_stratified.shape[1]])\n",
    "plt.show()"
   ]
  },
  {
   "attachments": {},
   "cell_type": "markdown",
   "id": "65c5a913",
   "metadata": {
    "id": "dWcWUHbytjWc",
    "papermill": {
     "duration": 0.015178,
     "end_time": "2023-06-30T13:26:06.724199",
     "exception": false,
     "start_time": "2023-06-30T13:26:06.709021",
     "status": "completed"
    },
    "tags": []
   },
   "source": [
    "Seeing these feature importances, we want to simplify our model to only use features that may heavily contribute to our classification. Using our feature importance chart, we will take the top 5 most impactful features: PageValues, ExitRates, ProductRelated_Duration, BounceRates, ProductRelated. In addition, after creating the simplififed model, we want to measure the effectiveness of our model by using cross validation."
   ]
  },
  {
   "cell_type": "code",
   "execution_count": 24,
   "id": "688e2afd",
   "metadata": {
    "execution": {
     "iopub.execute_input": "2023-06-30T13:26:06.758133Z",
     "iopub.status.busy": "2023-06-30T13:26:06.757601Z",
     "iopub.status.idle": "2023-06-30T13:26:06.766898Z",
     "shell.execute_reply": "2023-06-30T13:26:06.765493Z"
    },
    "id": "xOZ38itUtjW1",
    "papermill": {
     "duration": 0.030258,
     "end_time": "2023-06-30T13:26:06.769701",
     "exception": false,
     "start_time": "2023-06-30T13:26:06.739443",
     "status": "completed"
    },
    "tags": []
   },
   "outputs": [],
   "source": [
    "# Creating simple model dataset\n",
    "simple_model = shopping_clean_merged.drop(['Administrative_Duration','Administrative','Visitor_Type_Returning_Visitor','Informational_Duration','Informational','SpecialDay','Visitor_Type_Other'], axis=1)\n",
    "\n",
    "# Split train and test data\n",
    "\n",
    "X_simp = simple_model.drop('Revenue', axis=1)\n",
    "y_simp = simple_model['Revenue']\n",
    "cv = StratifiedShuffleSplit(n_splits=10, test_size=0.2, random_state=2)\n"
   ]
  },
  {
   "cell_type": "code",
   "execution_count": 25,
   "id": "1cf9d64a",
   "metadata": {
    "execution": {
     "iopub.execute_input": "2023-06-30T13:26:06.803557Z",
     "iopub.status.busy": "2023-06-30T13:26:06.802972Z",
     "iopub.status.idle": "2023-06-30T13:27:15.603666Z",
     "shell.execute_reply": "2023-06-30T13:27:15.602376Z"
    },
    "id": "GT0ESMSLtjW1",
    "outputId": "0b2c1c9b-bba3-430a-949b-a2c18d69b515",
    "papermill": {
     "duration": 68.83628,
     "end_time": "2023-06-30T13:27:15.620879",
     "exception": false,
     "start_time": "2023-06-30T13:26:06.784599",
     "status": "completed"
    },
    "tags": []
   },
   "outputs": [
    {
     "name": "stdout",
     "output_type": "stream",
     "text": [
      "Average Accuracy of Classifier over 10-folds: 0.90 (+/- 0.01)\n"
     ]
    }
   ],
   "source": [
    "clf = RandomForestClassifier(max_depth=5, random_state=2, n_estimators=750)\n",
    "\n",
    "scores = cross_val_score(clf, X_simp, y_simp, cv=cv)\n",
    "print(\"Average Accuracy of Classifier over 10-folds: %0.2f (+/- %0.2f)\" % (scores.mean(), scores.std() * 2))"
   ]
  },
  {
   "cell_type": "code",
   "execution_count": 26,
   "id": "96436f08",
   "metadata": {
    "execution": {
     "iopub.execute_input": "2023-06-30T13:27:15.655340Z",
     "iopub.status.busy": "2023-06-30T13:27:15.654557Z",
     "iopub.status.idle": "2023-06-30T13:27:25.414001Z",
     "shell.execute_reply": "2023-06-30T13:27:25.412971Z"
    },
    "id": "rZvx2BzetjW2",
    "outputId": "1e4b9560-2571-4b2a-8555-d70d091c2088",
    "papermill": {
     "duration": 9.780275,
     "end_time": "2023-06-30T13:27:25.416754",
     "exception": false,
     "start_time": "2023-06-30T13:27:15.636479",
     "status": "completed"
    },
    "tags": []
   },
   "outputs": [
    {
     "data": {
      "image/png": "[encoded data removed]",
      "text/plain": [
       "<Figure size 640x480 with 1 Axes>"
      ]
     },
     "metadata": {},
     "output_type": "display_data"
    }
   ],
   "source": [
    "# Now lets compare our simplified model with our previous models:\n",
    "\n",
    "X_train_simp, X_test_simp, y_train_simp, y_test_simp = train_test_split(X_simp, y_simp,stratify=y_simp, test_size=.2, shuffle=True, random_state=1)\n",
    "clf_simp = RandomForestClassifier(max_depth=5, n_estimators=1000)\n",
    "\n",
    "clf_simp.fit(X_train_simp,y_train_simp)\n",
    "y_pred_simp = clf_simp.predict(X_test_simp)\n",
    "y_prob_simp = clf_simp.predict_proba(X_test_simp)[:, 1]\n",
    "\n",
    "fpr_simp, tpr_simp, threshold_strat = metrics.roc_curve(y_test_simp, y_prob_simp)\n",
    "roc_auc_simp = metrics.auc(fpr_simp, tpr_simp)\n",
    "\n",
    "# Plotting ROC Curve\n",
    "plt.title('Receiver Operating Characteristic, Random Forest Classifier')\n",
    "plt.plot(fpr, tpr, 'b', label = 'AUC = %0.2f' % roc_auc)\n",
    "plt.plot(fpr_strat, tpr_strat, 'r', label = 'Stratified AUC = %0.2f' % roc_auc_strat)\n",
    "plt.plot(fpr_simp, tpr_simp, 'g', label = 'Simple Model AUC = %0.2f' % roc_auc_simp)\n",
    "plt.legend(loc = 'lower right')\n",
    "plt.plot([0, 1], [0, 1],'r--')\n",
    "plt.xlim([0, 1])\n",
    "plt.ylim([0, 1])\n",
    "plt.ylabel('True Positive Rate')\n",
    "plt.xlabel('False Positive Rate')\n",
    "plt.show()"
   ]
  },
  {
   "attachments": {},
   "cell_type": "markdown",
   "id": "4f580a9f",
   "metadata": {
    "id": "Ey9cv35PtjW2",
    "papermill": {
     "duration": 0.015268,
     "end_time": "2023-06-30T13:27:25.447570",
     "exception": false,
     "start_time": "2023-06-30T13:27:25.432302",
     "status": "completed"
    },
    "tags": []
   },
   "source": [
    "All three models seem to have similar performance. Now, we try a dummy classifier to compare results to see if the classifiers are producing better results than guessing."
   ]
  },
  {
   "cell_type": "code",
   "execution_count": 27,
   "id": "5cce0faa",
   "metadata": {
    "execution": {
     "iopub.execute_input": "2023-06-30T13:27:25.481894Z",
     "iopub.status.busy": "2023-06-30T13:27:25.480336Z",
     "iopub.status.idle": "2023-06-30T13:27:25.803950Z",
     "shell.execute_reply": "2023-06-30T13:27:25.802966Z"
    },
    "id": "gxrfMvJytjW2",
    "outputId": "12615328-e7d2-4680-e02c-3a6918f74797",
    "papermill": {
     "duration": 0.343073,
     "end_time": "2023-06-30T13:27:25.806265",
     "exception": false,
     "start_time": "2023-06-30T13:27:25.463192",
     "status": "completed"
    },
    "tags": []
   },
   "outputs": [
    {
     "data": {
      "image/png": "[encoded data removed]",
      "text/plain": [
       "<Figure size 640x480 with 1 Axes>"
      ]
     },
     "metadata": {},
     "output_type": "display_data"
    }
   ],
   "source": [
    "# Dummy Classifier\n",
    "\n",
    "dummy_clf = DummyClassifier(strategy='stratified')\n",
    "dummy_clf.fit(X_train,y_train)\n",
    "\n",
    "y_pred_dummy = dummy_clf.predict(X_test)\n",
    "y_prob_dummy = dummy_clf.predict_proba(X_test)[:, 1]\n",
    "\n",
    "fpr_dummy, tpr_dummy, threshold_strat = metrics.roc_curve(y_test, y_prob_dummy)\n",
    "roc_auc_dummy = metrics.auc(fpr_dummy, tpr_dummy)\n",
    "\n",
    "# Plotting ROC Curve\n",
    "plt.title('Receiver Operating Characteristic, Random Forest Classifier')\n",
    "plt.plot(fpr, tpr, 'b', label = 'AUC = %0.2f' % roc_auc)\n",
    "plt.plot(fpr_strat, tpr_strat, 'r', label = 'Stratified AUC = %0.2f' % roc_auc_strat)\n",
    "plt.plot(fpr_simp, tpr_simp, 'g', label = 'Simple Model AUC = %0.2f' % roc_auc_simp)\n",
    "plt.plot(fpr_dummy, tpr_dummy, 'k', label = 'Dummy Model AUC = %0.2f' % roc_auc_dummy)\n",
    "plt.legend(loc = 'lower right')\n",
    "plt.plot([0, 1], [0, 1],'r--')\n",
    "plt.xlim([0, 1])\n",
    "plt.ylim([0, 1])\n",
    "plt.ylabel('True Positive Rate')\n",
    "plt.xlabel('False Positive Rate')\n",
    "plt.show()"
   ]
  },
  {
   "attachments": {},
   "cell_type": "markdown",
   "id": "e150591d",
   "metadata": {
    "id": "iNhpELmDtjW2",
    "papermill": {
     "duration": 0.016262,
     "end_time": "2023-06-30T13:27:25.840090",
     "exception": false,
     "start_time": "2023-06-30T13:27:25.823828",
     "status": "completed"
    },
    "tags": []
   },
   "source": [
    "**Conclusion**\n",
    "\n",
    "Our model seems to be much more accurate than guessing. By using a random forest classifier, we are able to achieve approximately 90% accuracy. The dummy classifier seems to be right about 50% of the time, which we should expect to see, as it is making guesses based on the distribution of a stratified dataset. If we were to deploy this model, the most efficient model to select would be our simple model. The simple model performs similarly to our other models, and only bases its classification by five features. "
   ]
  }
 ],
 "metadata": {
  "kernelspec": {
   "display_name": "Python 3",
   "language": "python",
   "name": "python3"
  },
  "language_info": {
   "codemirror_mode": {
    "name": "ipython",
    "version": 3
   },
   "file_extension": ".py",
   "mimetype": "text/x-python",
   "name": "python",
   "nbconvert_exporter": "python",
   "pygments_lexer": "ipython3",
   "version": "3.10.10"
  },
  "papermill": {
   "default_parameters": {},
   "duration": 125.213984,
   "end_time": "2023-06-30T13:27:27.183715",
   "environment_variables": {},
   "exception": null,
   "input_path": "__notebook__.ipynb",
   "output_path": "__notebook__.ipynb",
   "parameters": {},
   "start_time": "2023-06-30T13:25:21.969731",
   "version": "2.4.0"
  }
 },
 "nbformat": 4,
 "nbformat_minor": 5
}
